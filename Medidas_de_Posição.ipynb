{
  "nbformat": 4,
  "nbformat_minor": 0,
  "metadata": {
    "colab": {
      "name": "Medidas de Posição.ipynb",
      "provenance": [],
      "collapsed_sections": []
    },
    "kernelspec": {
      "name": "python3",
      "display_name": "Python 3"
    },
    "language_info": {
      "name": "python"
    }
  },
  "cells": [
    {
      "cell_type": "markdown",
      "metadata": {
        "id": "BSP0l37zuoQh"
      },
      "source": [
        "## 1. Exercício - Medidas de posição\n",
        "\n",
        "Faça o download dos dados de nascidos vivos em 2017 de Sergipe e responda às seguintes perguntas:\n",
        "\n",
        "\n",
        "\n",
        "1.   Qual a média da idade da mãe, peso, apgar 1 min, apgar 5 min, quantidade de filhos vivos e quantidade de filhos mortos?\n",
        "2.   Qual a idade tal que metade das idades das mães são menores que ela (mediana)?\n",
        "3.   Qual o apgar de 1 min que mais aparece (moda)?\n",
        "4.   Qual o apgar de 5 minutos que mais aparece?\n",
        "5.   Qual o peso da criança tal que 10% dos pesos são menores (P10)?\n",
        "6.   Qual o peso da criança tal que 75% dos pesos são menores (Q3)?\n",
        "7.   Qual a quantidade de filhos mortos que mais aparece?\n",
        "8.   Qual a média de idade de mães solteiras?\n",
        "9.   Qual a quantidade de filhos vivos das mães com até 3 anos de escolaridade tal que 25% dessa quantidade são menores (Q1)?\n",
        "10.   Qual a moda da idade das mães para as crianças que nasceram com anomalia congênita?\n",
        "\n",
        "<br/>"
      ]
    },
    {
      "cell_type": "code",
      "metadata": {
        "colab": {
          "base_uri": "https://localhost:8080/"
        },
        "id": "YI5YHL7-uhCY",
        "outputId": "8cda9f18-005f-40f1-e8a3-2f4f9a4b73e4"
      },
      "source": [
        "#Importando base SE (salva no Drive)\n",
        "\n",
        "import pandas as pd\n",
        "from google.colab import drive\n",
        "drive.mount('/content/drive')\n",
        "\n",
        "caminho = '/content/drive/MyDrive/DATA_EXPLORATORY/DNSE2017.csv'\n",
        "sinascse = pd.read_csv(caminho, dtype = str)"
      ],
      "execution_count": 27,
      "outputs": [
        {
          "output_type": "stream",
          "text": [
            "Drive already mounted at /content/drive; to attempt to forcibly remount, call drive.mount(\"/content/drive\", force_remount=True).\n"
          ],
          "name": "stdout"
        }
      ]
    },
    {
      "cell_type": "code",
      "metadata": {
        "colab": {
          "base_uri": "https://localhost:8080/",
          "height": 224
        },
        "id": "Lmm5GJ2A3mvy",
        "outputId": "2ae22f27-fce3-4f7f-c1ec-3332c656933a"
      },
      "source": [
        "sinascse.head()"
      ],
      "execution_count": 28,
      "outputs": [
        {
          "output_type": "execute_result",
          "data": {
            "text/html": [
              "<div>\n",
              "<style scoped>\n",
              "    .dataframe tbody tr th:only-of-type {\n",
              "        vertical-align: middle;\n",
              "    }\n",
              "\n",
              "    .dataframe tbody tr th {\n",
              "        vertical-align: top;\n",
              "    }\n",
              "\n",
              "    .dataframe thead th {\n",
              "        text-align: right;\n",
              "    }\n",
              "</style>\n",
              "<table border=\"1\" class=\"dataframe\">\n",
              "  <thead>\n",
              "    <tr style=\"text-align: right;\">\n",
              "      <th></th>\n",
              "      <th>contador</th>\n",
              "      <th>ORIGEM</th>\n",
              "      <th>CODESTAB</th>\n",
              "      <th>CODMUNNASC</th>\n",
              "      <th>LOCNASC</th>\n",
              "      <th>IDADEMAE</th>\n",
              "      <th>ESTCIVMAE</th>\n",
              "      <th>ESCMAE</th>\n",
              "      <th>CODOCUPMAE</th>\n",
              "      <th>QTDFILVIVO</th>\n",
              "      <th>QTDFILMORT</th>\n",
              "      <th>CODMUNRES</th>\n",
              "      <th>GESTACAO</th>\n",
              "      <th>GRAVIDEZ</th>\n",
              "      <th>PARTO</th>\n",
              "      <th>CONSULTAS</th>\n",
              "      <th>DTNASC</th>\n",
              "      <th>HORANASC</th>\n",
              "      <th>SEXO</th>\n",
              "      <th>APGAR1</th>\n",
              "      <th>APGAR5</th>\n",
              "      <th>RACACOR</th>\n",
              "      <th>PESO</th>\n",
              "      <th>IDANOMAL</th>\n",
              "      <th>DTCADASTRO</th>\n",
              "      <th>CODANOMAL</th>\n",
              "      <th>NUMEROLOTE</th>\n",
              "      <th>VERSAOSIST</th>\n",
              "      <th>DTRECEBIM</th>\n",
              "      <th>DIFDATA</th>\n",
              "      <th>DTRECORIGA</th>\n",
              "      <th>NATURALMAE</th>\n",
              "      <th>CODMUNNATU</th>\n",
              "      <th>CODUFNATU</th>\n",
              "      <th>ESCMAE2010</th>\n",
              "      <th>SERIESCMAE</th>\n",
              "      <th>DTNASCMAE</th>\n",
              "      <th>RACACORMAE</th>\n",
              "      <th>QTDGESTANT</th>\n",
              "      <th>QTDPARTNOR</th>\n",
              "      <th>QTDPARTCES</th>\n",
              "      <th>IDADEPAI</th>\n",
              "      <th>DTULTMENST</th>\n",
              "      <th>SEMAGESTAC</th>\n",
              "      <th>TPMETESTIM</th>\n",
              "      <th>CONSPRENAT</th>\n",
              "      <th>MESPRENAT</th>\n",
              "      <th>TPAPRESENT</th>\n",
              "      <th>STTRABPART</th>\n",
              "      <th>STCESPARTO</th>\n",
              "      <th>TPNASCASSI</th>\n",
              "      <th>TPFUNCRESP</th>\n",
              "      <th>TPDOCRESP</th>\n",
              "      <th>DTDECLARAC</th>\n",
              "      <th>ESCMAEAGR1</th>\n",
              "      <th>STDNEPIDEM</th>\n",
              "      <th>STDNNOVA</th>\n",
              "      <th>CODPAISRES</th>\n",
              "      <th>TPROBSON</th>\n",
              "      <th>PARIDADE</th>\n",
              "      <th>KOTELCHUCK</th>\n",
              "    </tr>\n",
              "  </thead>\n",
              "  <tbody>\n",
              "    <tr>\n",
              "      <th>0</th>\n",
              "      <td>1</td>\n",
              "      <td>1</td>\n",
              "      <td>2415631</td>\n",
              "      <td>230440</td>\n",
              "      <td>1</td>\n",
              "      <td>24</td>\n",
              "      <td>2</td>\n",
              "      <td>4</td>\n",
              "      <td>999992</td>\n",
              "      <td>01</td>\n",
              "      <td>00</td>\n",
              "      <td>280030</td>\n",
              "      <td>5</td>\n",
              "      <td>1</td>\n",
              "      <td>2</td>\n",
              "      <td>4</td>\n",
              "      <td>10012017</td>\n",
              "      <td>1413</td>\n",
              "      <td>1</td>\n",
              "      <td>09</td>\n",
              "      <td>10</td>\n",
              "      <td>4</td>\n",
              "      <td>3556</td>\n",
              "      <td>2</td>\n",
              "      <td>16012017</td>\n",
              "      <td>NaN</td>\n",
              "      <td>20170003</td>\n",
              "      <td>3.2.01</td>\n",
              "      <td>07022017</td>\n",
              "      <td>028</td>\n",
              "      <td>NaN</td>\n",
              "      <td>823</td>\n",
              "      <td>230075</td>\n",
              "      <td>23</td>\n",
              "      <td>3</td>\n",
              "      <td>NaN</td>\n",
              "      <td>08011993</td>\n",
              "      <td>4</td>\n",
              "      <td>01</td>\n",
              "      <td>00</td>\n",
              "      <td>01</td>\n",
              "      <td>NaN</td>\n",
              "      <td>NaN</td>\n",
              "      <td>40</td>\n",
              "      <td>9</td>\n",
              "      <td>10</td>\n",
              "      <td>NaN</td>\n",
              "      <td>1</td>\n",
              "      <td>2</td>\n",
              "      <td>1</td>\n",
              "      <td>1</td>\n",
              "      <td>NaN</td>\n",
              "      <td>0</td>\n",
              "      <td>NaN</td>\n",
              "      <td>12</td>\n",
              "      <td>0</td>\n",
              "      <td>1</td>\n",
              "      <td>NaN</td>\n",
              "      <td>05</td>\n",
              "      <td>1</td>\n",
              "      <td>9</td>\n",
              "    </tr>\n",
              "    <tr>\n",
              "      <th>1</th>\n",
              "      <td>2</td>\n",
              "      <td>1</td>\n",
              "      <td>2005050</td>\n",
              "      <td>270030</td>\n",
              "      <td>1</td>\n",
              "      <td>34</td>\n",
              "      <td>5</td>\n",
              "      <td>4</td>\n",
              "      <td>622020</td>\n",
              "      <td>03</td>\n",
              "      <td>01</td>\n",
              "      <td>280600</td>\n",
              "      <td>5</td>\n",
              "      <td>1</td>\n",
              "      <td>2</td>\n",
              "      <td>3</td>\n",
              "      <td>05042017</td>\n",
              "      <td>1425</td>\n",
              "      <td>1</td>\n",
              "      <td>08</td>\n",
              "      <td>09</td>\n",
              "      <td>4</td>\n",
              "      <td>2760</td>\n",
              "      <td>2</td>\n",
              "      <td>03072017</td>\n",
              "      <td>NaN</td>\n",
              "      <td>20170020</td>\n",
              "      <td>3.2.01</td>\n",
              "      <td>26072017</td>\n",
              "      <td>112</td>\n",
              "      <td>NaN</td>\n",
              "      <td>827</td>\n",
              "      <td>270400</td>\n",
              "      <td>27</td>\n",
              "      <td>3</td>\n",
              "      <td>3</td>\n",
              "      <td>06011983</td>\n",
              "      <td>4</td>\n",
              "      <td>04</td>\n",
              "      <td>03</td>\n",
              "      <td>NaN</td>\n",
              "      <td>NaN</td>\n",
              "      <td>14072016</td>\n",
              "      <td>37</td>\n",
              "      <td>8</td>\n",
              "      <td>05</td>\n",
              "      <td>03</td>\n",
              "      <td>1</td>\n",
              "      <td>2</td>\n",
              "      <td>2</td>\n",
              "      <td>1</td>\n",
              "      <td>NaN</td>\n",
              "      <td>3</td>\n",
              "      <td>05042017</td>\n",
              "      <td>06</td>\n",
              "      <td>0</td>\n",
              "      <td>1</td>\n",
              "      <td>NaN</td>\n",
              "      <td>03</td>\n",
              "      <td>1</td>\n",
              "      <td>3</td>\n",
              "    </tr>\n",
              "    <tr>\n",
              "      <th>2</th>\n",
              "      <td>3</td>\n",
              "      <td>1</td>\n",
              "      <td>2005050</td>\n",
              "      <td>270030</td>\n",
              "      <td>1</td>\n",
              "      <td>19</td>\n",
              "      <td>2</td>\n",
              "      <td>4</td>\n",
              "      <td>622020</td>\n",
              "      <td>NaN</td>\n",
              "      <td>NaN</td>\n",
              "      <td>280120</td>\n",
              "      <td>NaN</td>\n",
              "      <td>1</td>\n",
              "      <td>2</td>\n",
              "      <td>4</td>\n",
              "      <td>03042017</td>\n",
              "      <td>1250</td>\n",
              "      <td>1</td>\n",
              "      <td>08</td>\n",
              "      <td>09</td>\n",
              "      <td>4</td>\n",
              "      <td>3010</td>\n",
              "      <td>2</td>\n",
              "      <td>17042017</td>\n",
              "      <td>NaN</td>\n",
              "      <td>20170011</td>\n",
              "      <td>3.2.01</td>\n",
              "      <td>20042017</td>\n",
              "      <td>017</td>\n",
              "      <td>NaN</td>\n",
              "      <td>827</td>\n",
              "      <td>270030</td>\n",
              "      <td>27</td>\n",
              "      <td>3</td>\n",
              "      <td>3</td>\n",
              "      <td>21081997</td>\n",
              "      <td>4</td>\n",
              "      <td>NaN</td>\n",
              "      <td>NaN</td>\n",
              "      <td>NaN</td>\n",
              "      <td>26</td>\n",
              "      <td>NaN</td>\n",
              "      <td>NaN</td>\n",
              "      <td>NaN</td>\n",
              "      <td>08</td>\n",
              "      <td>01</td>\n",
              "      <td>1</td>\n",
              "      <td>1</td>\n",
              "      <td>2</td>\n",
              "      <td>1</td>\n",
              "      <td>NaN</td>\n",
              "      <td>3</td>\n",
              "      <td>03042017</td>\n",
              "      <td>06</td>\n",
              "      <td>0</td>\n",
              "      <td>1</td>\n",
              "      <td>NaN</td>\n",
              "      <td>11</td>\n",
              "      <td>0</td>\n",
              "      <td>5</td>\n",
              "    </tr>\n",
              "    <tr>\n",
              "      <th>3</th>\n",
              "      <td>4</td>\n",
              "      <td>1</td>\n",
              "      <td>2005026</td>\n",
              "      <td>270030</td>\n",
              "      <td>1</td>\n",
              "      <td>19</td>\n",
              "      <td>2</td>\n",
              "      <td>4</td>\n",
              "      <td>999992</td>\n",
              "      <td>01</td>\n",
              "      <td>NaN</td>\n",
              "      <td>280440</td>\n",
              "      <td>5</td>\n",
              "      <td>1</td>\n",
              "      <td>2</td>\n",
              "      <td>3</td>\n",
              "      <td>29042017</td>\n",
              "      <td>1615</td>\n",
              "      <td>2</td>\n",
              "      <td>08</td>\n",
              "      <td>09</td>\n",
              "      <td>4</td>\n",
              "      <td>3720</td>\n",
              "      <td>2</td>\n",
              "      <td>17052017</td>\n",
              "      <td>NaN</td>\n",
              "      <td>20170015</td>\n",
              "      <td>3.2.01</td>\n",
              "      <td>18052017</td>\n",
              "      <td>019</td>\n",
              "      <td>NaN</td>\n",
              "      <td>827</td>\n",
              "      <td>270170</td>\n",
              "      <td>27</td>\n",
              "      <td>2</td>\n",
              "      <td>8</td>\n",
              "      <td>10041998</td>\n",
              "      <td>4</td>\n",
              "      <td>01</td>\n",
              "      <td>NaN</td>\n",
              "      <td>01</td>\n",
              "      <td>NaN</td>\n",
              "      <td>08082016</td>\n",
              "      <td>37</td>\n",
              "      <td>8</td>\n",
              "      <td>04</td>\n",
              "      <td>04</td>\n",
              "      <td>1</td>\n",
              "      <td>1</td>\n",
              "      <td>1</td>\n",
              "      <td>1</td>\n",
              "      <td>2</td>\n",
              "      <td>3</td>\n",
              "      <td>29042017</td>\n",
              "      <td>04</td>\n",
              "      <td>0</td>\n",
              "      <td>1</td>\n",
              "      <td>NaN</td>\n",
              "      <td>05</td>\n",
              "      <td>1</td>\n",
              "      <td>2</td>\n",
              "    </tr>\n",
              "    <tr>\n",
              "      <th>4</th>\n",
              "      <td>5</td>\n",
              "      <td>1</td>\n",
              "      <td>2722429</td>\n",
              "      <td>270400</td>\n",
              "      <td>1</td>\n",
              "      <td>16</td>\n",
              "      <td>1</td>\n",
              "      <td>4</td>\n",
              "      <td>999991</td>\n",
              "      <td>00</td>\n",
              "      <td>04</td>\n",
              "      <td>280570</td>\n",
              "      <td>5</td>\n",
              "      <td>1</td>\n",
              "      <td>1</td>\n",
              "      <td>3</td>\n",
              "      <td>19042017</td>\n",
              "      <td>1014</td>\n",
              "      <td>1</td>\n",
              "      <td>09</td>\n",
              "      <td>10</td>\n",
              "      <td>4</td>\n",
              "      <td>2900</td>\n",
              "      <td>2</td>\n",
              "      <td>06062017</td>\n",
              "      <td>NaN</td>\n",
              "      <td>20170007</td>\n",
              "      <td>3.2.01</td>\n",
              "      <td>06062017</td>\n",
              "      <td>048</td>\n",
              "      <td>NaN</td>\n",
              "      <td>828</td>\n",
              "      <td>280030</td>\n",
              "      <td>28</td>\n",
              "      <td>3</td>\n",
              "      <td>1</td>\n",
              "      <td>30082000</td>\n",
              "      <td>4</td>\n",
              "      <td>00</td>\n",
              "      <td>00</td>\n",
              "      <td>00</td>\n",
              "      <td>NaN</td>\n",
              "      <td>20072016</td>\n",
              "      <td>38</td>\n",
              "      <td>8</td>\n",
              "      <td>05</td>\n",
              "      <td>05</td>\n",
              "      <td>1</td>\n",
              "      <td>2</td>\n",
              "      <td>3</td>\n",
              "      <td>3</td>\n",
              "      <td>2</td>\n",
              "      <td>4</td>\n",
              "      <td>19042017</td>\n",
              "      <td>05</td>\n",
              "      <td>0</td>\n",
              "      <td>1</td>\n",
              "      <td>NaN</td>\n",
              "      <td>03</td>\n",
              "      <td>1</td>\n",
              "      <td>2</td>\n",
              "    </tr>\n",
              "  </tbody>\n",
              "</table>\n",
              "</div>"
            ],
            "text/plain": [
              "  contador ORIGEM CODESTAB CODMUNNASC  ... CODPAISRES TPROBSON PARIDADE KOTELCHUCK\n",
              "0        1      1  2415631     230440  ...        NaN       05        1          9\n",
              "1        2      1  2005050     270030  ...        NaN       03        1          3\n",
              "2        3      1  2005050     270030  ...        NaN       11        0          5\n",
              "3        4      1  2005026     270030  ...        NaN       05        1          2\n",
              "4        5      1  2722429     270400  ...        NaN       03        1          2\n",
              "\n",
              "[5 rows x 61 columns]"
            ]
          },
          "metadata": {
            "tags": []
          },
          "execution_count": 28
        }
      ]
    },
    {
      "cell_type": "code",
      "metadata": {
        "colab": {
          "base_uri": "https://localhost:8080/"
        },
        "id": "RkTID24O3wDS",
        "outputId": "96780f7f-3742-4054-ff83-121ab07776ad"
      },
      "source": [
        "#1 - Qual a média da idade da mãe, peso, apgar 1 min, apgar 5 min, quantidade de filhos vivos e quantidade de filhos mortos?\n",
        "sinascse['IDADEMAE'] = pd.to_numeric(sinascse['IDADEMAE'])\n",
        "sinascse['PESO'] = pd.to_numeric(sinascse['PESO'])\n",
        "sinascse['APGAR1'] = pd.to_numeric(sinascse['APGAR1'])\n",
        "sinascse['APGAR5'] = pd.to_numeric(sinascse['APGAR5'])\n",
        "sinascse['IDADEPAI'] = pd.to_numeric(sinascse['IDADEPAI'])\n",
        "\n",
        "print('Média IDADEMAE: ' + str(sinascse['IDADEMAE'].mean()))\n",
        "print('Média PESO: ' + str(sinascse['PESO'].mean()))\n",
        "print('Média APGAR1: ' + str(sinascse['APGAR1'].mean()))\n",
        "print('Média APGAR5: ' + str(sinascse['APGAR5'].mean()))\n",
        "print('Média IDADEPAI: ' + str(sinascse['IDADEPAI'].mean()))\n",
        "\n"
      ],
      "execution_count": 29,
      "outputs": [
        {
          "output_type": "stream",
          "text": [
            "Média IDADEMAE: 26.148079251188474\n",
            "Média PESO: 3223.196331521739\n",
            "Média APGAR1: 8.443828562774497\n",
            "Média APGAR5: 9.526913296197627\n",
            "Média IDADEPAI: 33.35748502994012\n"
          ],
          "name": "stdout"
        }
      ]
    },
    {
      "cell_type": "code",
      "metadata": {
        "colab": {
          "base_uri": "https://localhost:8080/"
        },
        "id": "9Dj4wnCDdFV2",
        "outputId": "bff61c6c-a587-4f9e-8237-b76f77380030"
      },
      "source": [
        "#2 - Qual a idade tal que metade das idades das mães são menores que ela (mediana)?\n",
        "medianaIDADEMAE = sinascse['IDADEMAE'].median()\n",
        "print(medianaIDADEMAE)"
      ],
      "execution_count": 30,
      "outputs": [
        {
          "output_type": "stream",
          "text": [
            "26.0\n"
          ],
          "name": "stdout"
        }
      ]
    },
    {
      "cell_type": "code",
      "metadata": {
        "colab": {
          "base_uri": "https://localhost:8080/"
        },
        "id": "T7MAIETGfQhA",
        "outputId": "f31b5881-7d9e-4e10-b8cf-a13daf737619"
      },
      "source": [
        "#3 - Qual o apgar de 1 min que mais aparece (moda)?\n",
        "#4 - Qual o apgar de 5 minutos que mais aparece?\n",
        "modaAPGAR1 = sinascse['APGAR1'].mode()\n",
        "modaAPGAR5 = sinascse['APGAR5'].mode()\n",
        "print('O APGAR de 1 min que mais aparece é: ' + str(int(modaAPGAR1)))\n",
        "print('O APGAR de 5 min que mais aparece é: ' + str(int(modaAPGAR5)))"
      ],
      "execution_count": 31,
      "outputs": [
        {
          "output_type": "stream",
          "text": [
            "O APGAR de 1 min que mais aparece é: 9\n",
            "O APGAR de 5 min que mais aparece é: 10\n"
          ],
          "name": "stdout"
        }
      ]
    },
    {
      "cell_type": "code",
      "metadata": {
        "colab": {
          "base_uri": "https://localhost:8080/",
          "height": 111
        },
        "id": "76rUQLR4ftDA",
        "outputId": "d18326d1-47fd-4c1f-cab7-4582a2fc7811"
      },
      "source": [
        "#5 - Qual o peso da criança tal que 10% dos pesos são menores (Q10)?\n",
        "#6 - Qual o peso da criança tal que 75% dos pesos são menores (Q3)?\n",
        "qPESO_10_75 = sinascse[['PESO']]\n",
        "q = qPESO_10_75.quantile([0.1,0.75])\n",
        "q"
      ],
      "execution_count": 32,
      "outputs": [
        {
          "output_type": "execute_result",
          "data": {
            "text/html": [
              "<div>\n",
              "<style scoped>\n",
              "    .dataframe tbody tr th:only-of-type {\n",
              "        vertical-align: middle;\n",
              "    }\n",
              "\n",
              "    .dataframe tbody tr th {\n",
              "        vertical-align: top;\n",
              "    }\n",
              "\n",
              "    .dataframe thead th {\n",
              "        text-align: right;\n",
              "    }\n",
              "</style>\n",
              "<table border=\"1\" class=\"dataframe\">\n",
              "  <thead>\n",
              "    <tr style=\"text-align: right;\">\n",
              "      <th></th>\n",
              "      <th>PESO</th>\n",
              "    </tr>\n",
              "  </thead>\n",
              "  <tbody>\n",
              "    <tr>\n",
              "      <th>0.10</th>\n",
              "      <td>2570.0</td>\n",
              "    </tr>\n",
              "    <tr>\n",
              "      <th>0.75</th>\n",
              "      <td>3575.0</td>\n",
              "    </tr>\n",
              "  </tbody>\n",
              "</table>\n",
              "</div>"
            ],
            "text/plain": [
              "        PESO\n",
              "0.10  2570.0\n",
              "0.75  3575.0"
            ]
          },
          "metadata": {
            "tags": []
          },
          "execution_count": 32
        }
      ]
    },
    {
      "cell_type": "code",
      "metadata": {
        "colab": {
          "base_uri": "https://localhost:8080/"
        },
        "id": "jCg0PvhUhCox",
        "outputId": "28227afa-440b-470f-affa-92a0866564f6"
      },
      "source": [
        "#7 - Qual a quantidade de filhos mortos que mais aparece?\n",
        "modaQTDFILMORT = sinascse['QTDFILMORT'].mode()\n",
        "print(int(modaQTDFILMORT))"
      ],
      "execution_count": 33,
      "outputs": [
        {
          "output_type": "stream",
          "text": [
            "0\n"
          ],
          "name": "stdout"
        }
      ]
    },
    {
      "cell_type": "code",
      "metadata": {
        "colab": {
          "base_uri": "https://localhost:8080/"
        },
        "id": "RcWoMBJuhH7g",
        "outputId": "0bd8e981-ebf2-4866-ceff-d215bd225096"
      },
      "source": [
        "#8 - Qual a média de idade de mães solteiras?\n",
        "maeSolteira = sinascse[sinascse['ESTCIVMAE'] == '1']\n",
        "mediaIDADEMAE = maeSolteira['IDADEMAE'].median()\n",
        "print(mediaIDADEMAE)"
      ],
      "execution_count": 42,
      "outputs": [
        {
          "output_type": "stream",
          "text": [
            "24.0\n"
          ],
          "name": "stdout"
        }
      ]
    },
    {
      "cell_type": "code",
      "metadata": {
        "id": "6k3rBwykhIDf"
      },
      "source": [
        "#9 - Qual a quantidade de filhos vivos das mães com até 3 anos de escolaridade tal que 25% dessa quantidade são menores (Q1)?\n",
        "escolaridadeMaeAte3Anos = sinascse[(sinascse['ESCMAE']=='1') | (sinascse['ESCMAE']=='2')]\n",
        "q25 = escolaridadeMaeAte3Anos['QTDFILVIVO'].int(quantile[(0.25)])\n",
        "q25"
      ],
      "execution_count": null,
      "outputs": []
    },
    {
      "cell_type": "code",
      "metadata": {
        "colab": {
          "base_uri": "https://localhost:8080/"
        },
        "id": "K2HWAlVvhIL3",
        "outputId": "69acda77-efc2-4bae-fa7c-fb37cabb13de"
      },
      "source": [
        "#10 - Qual a moda da idade das mães para as crianças que nasceram com anomalia congênita?\n",
        "anomaliaSIM = sinascse[sinascse['IDANOMAL'] == '1']\n",
        "modaIDADEMAE = anomaliaSIM['IDADEMAE'].mode()\n",
        "print(int(modaIDADEMAE))"
      ],
      "execution_count": 44,
      "outputs": [
        {
          "output_type": "stream",
          "text": [
            "21\n"
          ],
          "name": "stdout"
        }
      ]
    }
  ]
}