{
  "nbformat": 4,
  "nbformat_minor": 0,
  "metadata": {
    "colab": {
      "name": "Lista Exercicios Python",
      "provenance": [],
      "collapsed_sections": []
    },
    "kernelspec": {
      "name": "python3",
      "display_name": "Python 3"
    },
    "language_info": {
      "name": "python"
    }
  },
  "cells": [
    {
      "cell_type": "markdown",
      "metadata": {
        "id": "mbXNFbAGgGBa"
      },
      "source": [
        "#1. Calculando a média de uma lista com tipos de dados diferentes\n",
        "\n",
        "Você tem uma lista de número: [6,7,4,7,8,4,2,5,7,&#39;hum&#39;, &#39;dois&#39;]\n",
        "\n",
        "A ideia do exercício éVtirar a média de todos os valores contidos na lista, porém para fazer o cálculo precisa remover as strings."
      ]
    },
    {
      "cell_type": "code",
      "metadata": {
        "colab": {
          "base_uri": "https://localhost:8080/"
        },
        "id": "jj3iFMhlgCFz",
        "outputId": "7350ac8e-a92d-449f-e630-c60d439f3f19"
      },
      "source": [
        "listaNumeros = [6,7,4,7,8,4,2,5,7,'hum','dois']\n",
        "\n",
        "#Calculando a quantidade de elementos\n",
        "qtdeElementos = len(listaNumeros)\n",
        "\n",
        "listaNumeros.remove('hum')\n",
        "listaNumeros.remove('dois')\n",
        "\n",
        "numerosValidos = sum(listaNumeros)\n",
        "media = numerosValidos/qtdeElementos\n",
        "\n",
        "print(media)"
      ],
      "execution_count": null,
      "outputs": [
        {
          "output_type": "stream",
          "text": [
            "4.545454545454546\n"
          ],
          "name": "stdout"
        }
      ]
    },
    {
      "cell_type": "markdown",
      "metadata": {
        "id": "oXmJtyqi3HM1"
      },
      "source": [
        "#2. Crie um método que receba duas matrizes, some o total de cada matriz e depois multiplique o resultado delas e retorne o valor"
      ]
    },
    {
      "cell_type": "code",
      "metadata": {
        "colab": {
          "base_uri": "https://localhost:8080/"
        },
        "id": "ul5Yn1PI3EEl",
        "outputId": "1403cc72-4d7e-4a8d-800e-afb62d7b889b"
      },
      "source": [
        "def obterLista1(matriz1):\n",
        "  matriz1=[\n",
        "           [0,0,0],\n",
        "           [0,0,0],\n",
        "           [0,0,0]\n",
        "]\n",
        "for linhasMatriz1 in range(0,3):\n",
        "  for colunasMatriz1 in range(0,3):\n",
        "    matriz1[linhasMatriz1][colunasMatriz1] = int(input(f'Digite um valor para [{linhasMatriz1},{colunasMatriz1}]: '))\n",
        "print(matriz1)\n",
        "\n",
        "print()\n",
        "\n",
        "def obterLista1(matriz2):\n",
        "  matriz2 = [\n",
        "             [0,0,0],\n",
        "             [0,0,0],\n",
        "             [0,0,0]\n",
        "]\n",
        "for linhasMatriz2 in range(0,3):\n",
        "  for colunasMatriz2 in range(0,3):\n",
        "    matriz2[linhasMatriz2][colunasMatriz2] = int(input(f'Digite um valor para [{linhasMatriz2},{colunasMatriz2}]: '))\n",
        "print(matriz2)"
      ],
      "execution_count": 52,
      "outputs": [
        {
          "output_type": "stream",
          "text": [
            "Digite um valor para [0,0]: 1\n",
            "Digite um valor para [0,1]: 2\n",
            "Digite um valor para [0,2]: 3\n",
            "Digite um valor para [1,0]: 4\n",
            "Digite um valor para [1,1]: 5\n",
            "Digite um valor para [1,2]: 6\n",
            "Digite um valor para [2,0]: 7\n",
            "Digite um valor para [2,1]: 8\n",
            "Digite um valor para [2,2]: 9\n",
            "[[1, 2, 3], [4, 5, 6], [7, 8, 9]]\n",
            "\n",
            "Digite um valor para [0,0]: 1\n",
            "Digite um valor para [0,1]: 2\n",
            "Digite um valor para [0,2]: 3\n",
            "Digite um valor para [1,0]: 4\n",
            "Digite um valor para [1,1]: 5\n",
            "Digite um valor para [1,2]: 6\n",
            "Digite um valor para [2,0]: 7\n",
            "Digite um valor para [2,1]: 8\n",
            "Digite um valor para [2,2]: 9\n",
            "[[1, 2, 3], [4, 5, 6], [7, 8, 9]]\n"
          ],
          "name": "stdout"
        }
      ]
    },
    {
      "cell_type": "code",
      "metadata": {
        "colab": {
          "base_uri": "https://localhost:8080/"
        },
        "id": "o-xY5V6g35qO",
        "outputId": "a5ccafd4-e578-4de7-cb0b-9a2492bdcf9b"
      },
      "source": [
        "#Somando a primneira matriz\n",
        "somaContador1 = 0\n",
        "for leMatriz1 in matriz1:\n",
        "  for somaMatriz1 in leMatriz1:\n",
        "    somaContador1 = somaContador1 + somaMatriz1\n",
        "\n",
        "#Somando a segunda matriz\n",
        "somaContador2 = 0\n",
        "for leMatriz2 in matriz2:\n",
        "  for somaMatriz2 in leMatriz2:\n",
        "    somaContador2 = somaContador2 + somaMatriz2\n",
        "\n",
        "#Multiplicando o resultado da soma de matrizes\n",
        "multiplicacao = somaContador1*somaContador2\n",
        "print(multiplicacao)"
      ],
      "execution_count": 53,
      "outputs": [
        {
          "output_type": "stream",
          "text": [
            "2025\n"
          ],
          "name": "stdout"
        }
      ]
    },
    {
      "cell_type": "markdown",
      "metadata": {
        "id": "qSIq0164vwcF"
      },
      "source": [
        "#3. Criar uma matriz nxm (n = 5, m =7)\n"
      ]
    },
    {
      "cell_type": "code",
      "metadata": {
        "id": "3oPzwKwlv1Ay"
      },
      "source": [
        "import numpy as np"
      ],
      "execution_count": 42,
      "outputs": []
    },
    {
      "cell_type": "code",
      "metadata": {
        "colab": {
          "base_uri": "https://localhost:8080/"
        },
        "id": "72XUVj-nwE2t",
        "outputId": "aea640e9-6996-4ce5-8dc5-d0ffebdcbabb"
      },
      "source": [
        "matrizNxM = np.array([[1,2,3,4,5,6,7],[7,6,5,4,3,2,1],[71,62,53,44,35,26,17],[77,66,55,44,33,22,11],[71,61,52,42,32,22,12]])\n",
        "matrizNxM.shape"
      ],
      "execution_count": 43,
      "outputs": [
        {
          "output_type": "execute_result",
          "data": {
            "text/plain": [
              "(5, 7)"
            ]
          },
          "metadata": {
            "tags": []
          },
          "execution_count": 43
        }
      ]
    },
    {
      "cell_type": "markdown",
      "metadata": {
        "id": "t3Cei0EnyZR9"
      },
      "source": [
        "#3. Criar uma matriz nxm (n = 5, m =7)\n",
        "a. faça a matriz transposta desta matriz"
      ]
    },
    {
      "cell_type": "code",
      "metadata": {
        "colab": {
          "base_uri": "https://localhost:8080/"
        },
        "id": "u06TvKQy3LE8",
        "outputId": "6429c542-3547-4149-9a34-e950e3fad58a"
      },
      "source": [
        "matrizNxM = np.array([[1,2,3,4,5,6,7],[7,6,5,4,3,2,1],[71,62,53,44,35,26,17],[77,66,55,44,33,22,11],[71,61,52,42,32,22,12]])[np.newaxis]\n",
        "print(matrizNxM.T)"
      ],
      "execution_count": 44,
      "outputs": [
        {
          "output_type": "stream",
          "text": [
            "[[[ 1]\n",
            "  [ 7]\n",
            "  [71]\n",
            "  [77]\n",
            "  [71]]\n",
            "\n",
            " [[ 2]\n",
            "  [ 6]\n",
            "  [62]\n",
            "  [66]\n",
            "  [61]]\n",
            "\n",
            " [[ 3]\n",
            "  [ 5]\n",
            "  [53]\n",
            "  [55]\n",
            "  [52]]\n",
            "\n",
            " [[ 4]\n",
            "  [ 4]\n",
            "  [44]\n",
            "  [44]\n",
            "  [42]]\n",
            "\n",
            " [[ 5]\n",
            "  [ 3]\n",
            "  [35]\n",
            "  [33]\n",
            "  [32]]\n",
            "\n",
            " [[ 6]\n",
            "  [ 2]\n",
            "  [26]\n",
            "  [22]\n",
            "  [22]]\n",
            "\n",
            " [[ 7]\n",
            "  [ 1]\n",
            "  [17]\n",
            "  [11]\n",
            "  [12]]]\n"
          ],
          "name": "stdout"
        }
      ]
    },
    {
      "cell_type": "markdown",
      "metadata": {
        "id": "epq6npDI4Wgw"
      },
      "source": [
        "#3. Criar uma matriz nxm (n = 5, m =7)\n",
        "b. somar toda matrix\n"
      ]
    },
    {
      "cell_type": "code",
      "metadata": {
        "colab": {
          "base_uri": "https://localhost:8080/"
        },
        "id": "6NGxdLDO4jxJ",
        "outputId": "ebd869bc-7dc0-41cb-91ce-17ae054d58c2"
      },
      "source": [
        "matrizNxM.sum()"
      ],
      "execution_count": 45,
      "outputs": [
        {
          "output_type": "execute_result",
          "data": {
            "text/plain": [
              "964"
            ]
          },
          "metadata": {
            "tags": []
          },
          "execution_count": 45
        }
      ]
    },
    {
      "cell_type": "markdown",
      "metadata": {
        "id": "49OM5Smk4o66"
      },
      "source": [
        "#3. Criar uma matriz nxm (n = 5, m =7)\n",
        "c. somar todas as colunas"
      ]
    },
    {
      "cell_type": "code",
      "metadata": {
        "colab": {
          "base_uri": "https://localhost:8080/"
        },
        "id": "Kyml2ECm9aYS",
        "outputId": "9f33db1e-25d4-4aee-a288-aad15d21b238"
      },
      "source": [
        "somaColunas = matrizNxM.sum(axis=2)\n",
        "print(somaColunas)"
      ],
      "execution_count": 59,
      "outputs": [
        {
          "output_type": "stream",
          "text": [
            "[[ 28  28 308 308 292]]\n"
          ],
          "name": "stdout"
        }
      ]
    },
    {
      "cell_type": "markdown",
      "metadata": {
        "id": "EQkX-hqn4_2D"
      },
      "source": [
        "#3. Criar uma matriz nxm (n = 5, m =7)\n",
        "d. somar todas as linhas"
      ]
    },
    {
      "cell_type": "code",
      "metadata": {
        "colab": {
          "base_uri": "https://localhost:8080/"
        },
        "id": "PlivMCwO-s5_",
        "outputId": "fb559a1f-28be-4372-dbab-42b085ee8f8c"
      },
      "source": [
        "somaLinhas = matrizNxM.sum(axis=1)\n",
        "print(somaLinhas)"
      ],
      "execution_count": 60,
      "outputs": [
        {
          "output_type": "stream",
          "text": [
            "[[227 197 168 138 108  78  48]]\n"
          ],
          "name": "stdout"
        }
      ]
    },
    {
      "cell_type": "markdown",
      "metadata": {
        "id": "aJsLnHAj5AD2"
      },
      "source": [
        "#3. Criar uma matriz nxm (n = 5, m =7)\n",
        "e. retorne o *maior* valor"
      ]
    },
    {
      "cell_type": "code",
      "metadata": {
        "colab": {
          "base_uri": "https://localhost:8080/"
        },
        "id": "t5Mv57Pw_hWu",
        "outputId": "42ece86d-aa22-42a9-b062-0ee7e6ee8264"
      },
      "source": [
        "maiorValor = np.max(matrizNxM)\n",
        "print(maiorValor)"
      ],
      "execution_count": 67,
      "outputs": [
        {
          "output_type": "stream",
          "text": [
            "77\n"
          ],
          "name": "stdout"
        }
      ]
    },
    {
      "cell_type": "markdown",
      "metadata": {
        "id": "UwwuKDLyAgXb"
      },
      "source": [
        "#3. Criar uma matriz nxm (n = 5, m =7)\n",
        "e. retorne o *menor* valor"
      ]
    },
    {
      "cell_type": "code",
      "metadata": {
        "colab": {
          "base_uri": "https://localhost:8080/"
        },
        "id": "gAFJd4WGAq1p",
        "outputId": "de759b03-c8ed-4d7e-aeb9-893310bf917c"
      },
      "source": [
        "menorValor = np.min(matrizNxM)\n",
        "print(menorValor)"
      ],
      "execution_count": 68,
      "outputs": [
        {
          "output_type": "stream",
          "text": [
            "1\n"
          ],
          "name": "stdout"
        }
      ]
    },
    {
      "cell_type": "markdown",
      "metadata": {
        "id": "inXYWVK9BMFs"
      },
      "source": [
        "#4. Crie uma matriz nxn (n=5). Agora some essa matriz com a matriz do exercício 3"
      ]
    },
    {
      "cell_type": "code",
      "metadata": {
        "colab": {
          "base_uri": "https://localhost:8080/"
        },
        "id": "r7dlkkLlBlEH",
        "outputId": "7f4ac16d-09b4-4749-f6f6-f5c3faf61a81"
      },
      "source": [
        "matriz5x5 = np.array([[1,2,3,4,5,0,0],[0,0,0,0,0,0,0],[0,0,0,0,0,0,0],[0,0,0,0,0,0,0],[0,0,0,0,0,0,0]])\n",
        "somamatrizNxM_matriz5x5 = np.sum([matriz5x5,matrizNxM])\n",
        "print(somamatrizNxM_matriz5x5)"
      ],
      "execution_count": 81,
      "outputs": [
        {
          "output_type": "stream",
          "text": [
            "[[[ 2  4  6  8 10  6  7]\n",
            "  [ 7  6  5  4  3  2  1]\n",
            "  [71 62 53 44 35 26 17]\n",
            "  [77 66 55 44 33 22 11]\n",
            "  [71 61 52 42 32 22 12]]]\n"
          ],
          "name": "stdout"
        },
        {
          "output_type": "stream",
          "text": [
            "/usr/local/lib/python3.7/dist-packages/numpy/core/fromnumeric.py:87: VisibleDeprecationWarning: Creating an ndarray from ragged nested sequences (which is a list-or-tuple of lists-or-tuples-or ndarrays with different lengths or shapes) is deprecated. If you meant to do this, you must specify 'dtype=object' when creating the ndarray\n",
            "  return ufunc.reduce(obj, axis, dtype, out, **passkwargs)\n"
          ],
          "name": "stderr"
        }
      ]
    },
    {
      "cell_type": "markdown",
      "metadata": {
        "id": "W9LOugSFBdjs"
      },
      "source": [
        "#5. crie um array de números que vai de 0 a 1000"
      ]
    },
    {
      "cell_type": "code",
      "metadata": {
        "colab": {
          "base_uri": "https://localhost:8080/"
        },
        "id": "xaXBHPCZBlfj",
        "outputId": "656a2981-bcb9-4e92-aa9f-0db9e5c24b94"
      },
      "source": [
        "matriz0x1000 = np.array([n for n in range(0,1001)])\n",
        "print(matriz0x1000)"
      ],
      "execution_count": 92,
      "outputs": [
        {
          "output_type": "stream",
          "text": [
            "[   0    1    2 ...  998  999 1000]\n"
          ],
          "name": "stdout"
        }
      ]
    },
    {
      "cell_type": "markdown",
      "metadata": {
        "id": "H4nOGgvBBf3e"
      },
      "source": [
        "#6. crie uma matriz só de zeros."
      ]
    },
    {
      "cell_type": "code",
      "metadata": {
        "colab": {
          "base_uri": "https://localhost:8080/"
        },
        "id": "Rlp0PpFBBmEs",
        "outputId": "eb648866-2373-4a43-ebcb-4614ec3a6fb0"
      },
      "source": [
        "matriz0 = np.zeros(1001)\n",
        "print(matriz0)"
      ],
      "execution_count": 94,
      "outputs": [
        {
          "output_type": "stream",
          "text": [
            "[0. 0. 0. ... 0. 0. 0.]\n"
          ],
          "name": "stdout"
        }
      ]
    }
  ]
}