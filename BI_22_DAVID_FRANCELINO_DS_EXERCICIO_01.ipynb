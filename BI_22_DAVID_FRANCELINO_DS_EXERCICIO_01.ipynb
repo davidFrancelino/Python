{
  "nbformat": 4,
  "nbformat_minor": 0,
  "metadata": {
    "colab": {
      "name": "BI_22_DAVID_FRANCELINO_DS_EXERCICIO_01",
      "provenance": []
    },
    "kernelspec": {
      "name": "python3",
      "display_name": "Python 3"
    },
    "language_info": {
      "name": "python"
    }
  },
  "cells": [
    {
      "cell_type": "markdown",
      "metadata": {
        "id": "SVv9TrpvkMUG"
      },
      "source": [
        "**Faculdade Impacta de Tecnologia**\n",
        "\n",
        "\n",
        "Data Science Using Python\n",
        "Exercíco 01\n",
        "\n",
        "---\n",
        "\n",
        "\n",
        "*Professor Thiago Rolemberg*"
      ]
    },
    {
      "cell_type": "markdown",
      "metadata": {
        "id": "I2urS_6Tk-uC"
      },
      "source": [
        "Calculadora\n",
        "\n",
        "---\n",
        "\n",
        "Calculadora precisa estar em uma função.\n",
        "\n",
        "\n",
        "A função precisa obrigatoriamente receber 3 parametros: \n",
        "1. primeiro valor\n",
        "2. segundo valor\n",
        "3. operação.\n",
        "\n",
        "\n",
        "soma, multiplicar, dividir, subtrair,  expoente.\n",
        "\n",
        "\n",
        "Definição, como deve vir o operador.\n",
        "\n",
        "\n",
        "# | + | - | / | * | **\n",
        "soma, substração, divisão, exponente."
      ]
    },
    {
      "cell_type": "code",
      "metadata": {
        "id": "93Uy7VZTjKDS"
      },
      "source": [
        "def calculadora (primeiro_valor, segundo_valor, operacao):\n",
        "  if(operacao == \"+\"):\n",
        "    resultSoma = primeiro_valor + segundo_valor\n",
        "    print(resultSoma)\n",
        "\n",
        "  elif(operacao == '-'):\n",
        "    resultSub = primeiro_valor - segundo_valor\n",
        "    print(resultSub)\n",
        "\n",
        "  elif(operacao == '*'):\n",
        "    resultMult = primeiro_valor * segundo_valor\n",
        "    print(resultMult)\n",
        "\n",
        "  elif(operacao == '/'):\n",
        "    resultDiv = primeiro_valor / segundo_valor\n",
        "    print(resultDiv)\n",
        "\n",
        "  elif(operacao == '**'):\n",
        "    resultExp = primeiro_valor ** segundo_valor\n",
        "    print(resultExp)\n",
        "\n",
        "  else:\n",
        "    print('ssss')"
      ],
      "execution_count": 61,
      "outputs": []
    },
    {
      "cell_type": "code",
      "metadata": {
        "colab": {
          "base_uri": "https://localhost:8080/"
        },
        "id": "YcDaui_-j1l6",
        "outputId": "da4f9938-af60-4b61-e381-f8fd584bce31"
      },
      "source": [
        "calculadora (25,2,'**')"
      ],
      "execution_count": 66,
      "outputs": [
        {
          "output_type": "stream",
          "text": [
            "625\n"
          ],
          "name": "stdout"
        }
      ]
    },
    {
      "cell_type": "markdown",
      "metadata": {
        "id": "jmFtTzt9lIxX"
      },
      "source": [
        ""
      ]
    }
  ]
}