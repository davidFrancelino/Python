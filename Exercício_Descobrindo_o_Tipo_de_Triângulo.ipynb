{
  "nbformat": 4,
  "nbformat_minor": 0,
  "metadata": {
    "colab": {
      "name": "Exercício Descobrindo o Tipo de Triângulo",
      "provenance": []
    },
    "kernelspec": {
      "name": "python3",
      "display_name": "Python 3"
    },
    "language_info": {
      "name": "python"
    }
  },
  "cells": [
    {
      "cell_type": "markdown",
      "metadata": {
        "id": "y2ua2eTz7HLH"
      },
      "source": [
        "#Descobrindo de o triângulo é Equilatero, isósceles ou escaleno\n",
        "\n",
        "\n",
        "---\n",
        "\n",
        "\n",
        "Equilatero: *03 lados iguais* <br/>\n",
        "Isósceles: *02 lados iguais* <br/>\n",
        "Escaleno: *nenhum lado igual* <br/>"
      ]
    },
    {
      "cell_type": "code",
      "metadata": {
        "colab": {
          "base_uri": "https://localhost:8080/"
        },
        "id": "UonKPBxL6AkX",
        "outputId": "38f2109b-9c22-46ba-8c2e-442ab6b53374"
      },
      "source": [
        "lado1 = int(input(\"Insira o valor do primeiro lado: \"))\n",
        "lado2 = int(input(\"Insira o valor do segundo lado: \"))\n",
        "lado3 = int(input(\"Insira o valor do terceiro lado: \"))\n",
        "\n",
        "3if (lado1 == lado2) and (lado2 == lado3):\n",
        "  print('Equilatero')\n",
        "elif ((lado1 == lado2) and (lado2 != lado3)) or ((lado1 == lado3) and (lado3 != lado2)):\n",
        "  print('Isósceles')\n",
        "else:\n",
        "  print('Escaleno')"
      ],
      "execution_count": 37,
      "outputs": [
        {
          "output_type": "stream",
          "text": [
            "Insira o valor do primeiro lado: 10\n",
            "Insira o valor do segundo lado: 20\n",
            "Insira o valor do terceiro lado: 30\n",
            "Escaleno\n"
          ],
          "name": "stdout"
        }
      ]
    }
  ]
}